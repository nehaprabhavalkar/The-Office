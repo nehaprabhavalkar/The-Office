{
 "cells": [
  {
   "cell_type": "code",
   "execution_count": 205,
   "metadata": {},
   "outputs": [],
   "source": [
    "import pandas as pd\n",
    "import numpy as np\n",
    "import re\n",
    "import nltk\n",
    "from sklearn.metrics.pairwise import cosine_similarity\n",
    "from nltk.stem import PorterStemmer\n",
    "from nltk.corpus import stopwords\n",
    "from sklearn.feature_extraction.text import CountVectorizer\n",
    "import warnings\n",
    "warnings.filterwarnings('ignore')"
   ]
  },
  {
   "cell_type": "code",
   "execution_count": 206,
   "metadata": {},
   "outputs": [
    {
     "data": {
      "text/plain": [
       "188"
      ]
     },
     "execution_count": 206,
     "metadata": {},
     "output_type": "execute_result"
    }
   ],
   "source": [
    "datapath = 'C:/Users/Neha/Desktop/Downloads/the_office.csv'\n",
    "dataset = pd.read_csv(datapath)\n",
    "df= dataset[['EpisodeTitle','About']]\n",
    "len(df)"
   ]
  },
  {
   "cell_type": "code",
   "execution_count": 207,
   "metadata": {},
   "outputs": [],
   "source": [
    "Index = np.arange(0,188)\n",
    "df['Index'] = Index"
   ]
  },
  {
   "cell_type": "code",
   "execution_count": 208,
   "metadata": {},
   "outputs": [
    {
     "data": {
      "text/html": [
       "<div>\n",
       "<style scoped>\n",
       "    .dataframe tbody tr th:only-of-type {\n",
       "        vertical-align: middle;\n",
       "    }\n",
       "\n",
       "    .dataframe tbody tr th {\n",
       "        vertical-align: top;\n",
       "    }\n",
       "\n",
       "    .dataframe thead th {\n",
       "        text-align: right;\n",
       "    }\n",
       "</style>\n",
       "<table border=\"1\" class=\"dataframe\">\n",
       "  <thead>\n",
       "    <tr style=\"text-align: right;\">\n",
       "      <th></th>\n",
       "      <th>EpisodeTitle</th>\n",
       "      <th>About</th>\n",
       "      <th>Index</th>\n",
       "    </tr>\n",
       "  </thead>\n",
       "  <tbody>\n",
       "    <tr>\n",
       "      <th>0</th>\n",
       "      <td>Pilot</td>\n",
       "      <td>The premiere episode introduces the boss and s...</td>\n",
       "      <td>0</td>\n",
       "    </tr>\n",
       "    <tr>\n",
       "      <th>1</th>\n",
       "      <td>Diversity Day</td>\n",
       "      <td>Michael's off color remark puts a sensitivity ...</td>\n",
       "      <td>1</td>\n",
       "    </tr>\n",
       "    <tr>\n",
       "      <th>2</th>\n",
       "      <td>Health Care</td>\n",
       "      <td>Michael leaves Dwight in charge of picking the...</td>\n",
       "      <td>2</td>\n",
       "    </tr>\n",
       "    <tr>\n",
       "      <th>3</th>\n",
       "      <td>The Alliance</td>\n",
       "      <td>Just for a laugh, Jim agrees to an alliance wi...</td>\n",
       "      <td>3</td>\n",
       "    </tr>\n",
       "    <tr>\n",
       "      <th>4</th>\n",
       "      <td>Basketball</td>\n",
       "      <td>Michael and his staff challenge the warehouse ...</td>\n",
       "      <td>4</td>\n",
       "    </tr>\n",
       "  </tbody>\n",
       "</table>\n",
       "</div>"
      ],
      "text/plain": [
       "    EpisodeTitle                                              About  Index\n",
       "0          Pilot  The premiere episode introduces the boss and s...      0\n",
       "1  Diversity Day  Michael's off color remark puts a sensitivity ...      1\n",
       "2    Health Care  Michael leaves Dwight in charge of picking the...      2\n",
       "3   The Alliance  Just for a laugh, Jim agrees to an alliance wi...      3\n",
       "4     Basketball  Michael and his staff challenge the warehouse ...      4"
      ]
     },
     "execution_count": 208,
     "metadata": {},
     "output_type": "execute_result"
    }
   ],
   "source": [
    "df.head()"
   ]
  },
  {
   "cell_type": "code",
   "execution_count": 209,
   "metadata": {},
   "outputs": [],
   "source": [
    "stemmer = PorterStemmer()\n",
    "stop_words = stopwords.words('english')"
   ]
  },
  {
   "cell_type": "code",
   "execution_count": 210,
   "metadata": {},
   "outputs": [],
   "source": [
    "corpus = []\n",
    "for i in range(0,len(df)):\n",
    "    about = re.sub('[^a-zA-Z]', ' ', df['About'][i])\n",
    "    about = about.lower()\n",
    "    about = about.split()\n",
    "    about = [stemmer.stem(word) for word in about if not word in stop_words]\n",
    "    about = ' '.join(about)\n",
    "    corpus.append(about)"
   ]
  },
  {
   "cell_type": "code",
   "execution_count": 211,
   "metadata": {},
   "outputs": [],
   "source": [
    "cv = CountVectorizer()\n",
    "X = cv.fit_transform(corpus)\n",
    "cos_sim = cosine_similarity(X, X)"
   ]
  },
  {
   "cell_type": "code",
   "execution_count": 212,
   "metadata": {},
   "outputs": [
    {
     "data": {
      "text/plain": [
       "(188, 188)"
      ]
     },
     "execution_count": 212,
     "metadata": {},
     "output_type": "execute_result"
    }
   ],
   "source": [
    "cos_sim.shape"
   ]
  },
  {
   "cell_type": "code",
   "execution_count": 213,
   "metadata": {},
   "outputs": [],
   "source": [
    "cos_sim_df = pd.DataFrame(data=cos_sim,columns=df.EpisodeTitle)"
   ]
  },
  {
   "cell_type": "code",
   "execution_count": 214,
   "metadata": {},
   "outputs": [
    {
     "data": {
      "text/html": [
       "<div>\n",
       "<style scoped>\n",
       "    .dataframe tbody tr th:only-of-type {\n",
       "        vertical-align: middle;\n",
       "    }\n",
       "\n",
       "    .dataframe tbody tr th {\n",
       "        vertical-align: top;\n",
       "    }\n",
       "\n",
       "    .dataframe thead th {\n",
       "        text-align: right;\n",
       "    }\n",
       "</style>\n",
       "<table border=\"1\" class=\"dataframe\">\n",
       "  <thead>\n",
       "    <tr style=\"text-align: right;\">\n",
       "      <th>EpisodeTitle</th>\n",
       "      <th>Pilot</th>\n",
       "      <th>Diversity Day</th>\n",
       "      <th>Health Care</th>\n",
       "      <th>The Alliance</th>\n",
       "      <th>Basketball</th>\n",
       "      <th>Hot Girl</th>\n",
       "      <th>The Dundies</th>\n",
       "      <th>Sexual Harassment</th>\n",
       "      <th>Office Olympics</th>\n",
       "      <th>The Fire</th>\n",
       "      <th>...</th>\n",
       "      <th>Vandalism</th>\n",
       "      <th>Couples Discount</th>\n",
       "      <th>Moving On</th>\n",
       "      <th>The Farm</th>\n",
       "      <th>Promos</th>\n",
       "      <th>Stairmageddon</th>\n",
       "      <th>Paper Airplane</th>\n",
       "      <th>Livin' the Dream</th>\n",
       "      <th>A.A.R.M.</th>\n",
       "      <th>Finale</th>\n",
       "    </tr>\n",
       "  </thead>\n",
       "  <tbody>\n",
       "    <tr>\n",
       "      <th>0</th>\n",
       "      <td>1.000000</td>\n",
       "      <td>0.000000</td>\n",
       "      <td>0.080064</td>\n",
       "      <td>0.000000</td>\n",
       "      <td>0.087706</td>\n",
       "      <td>0.083624</td>\n",
       "      <td>0.087706</td>\n",
       "      <td>0.000000</td>\n",
       "      <td>0.074125</td>\n",
       "      <td>0.098058</td>\n",
       "      <td>...</td>\n",
       "      <td>0.000000</td>\n",
       "      <td>0.000000</td>\n",
       "      <td>0.057831</td>\n",
       "      <td>0.000000</td>\n",
       "      <td>0.166410</td>\n",
       "      <td>0.000000</td>\n",
       "      <td>0.130744</td>\n",
       "      <td>0.113228</td>\n",
       "      <td>0.055470</td>\n",
       "      <td>0.208013</td>\n",
       "    </tr>\n",
       "    <tr>\n",
       "      <th>1</th>\n",
       "      <td>0.000000</td>\n",
       "      <td>1.000000</td>\n",
       "      <td>0.160128</td>\n",
       "      <td>0.000000</td>\n",
       "      <td>0.175412</td>\n",
       "      <td>0.250873</td>\n",
       "      <td>0.175412</td>\n",
       "      <td>0.098058</td>\n",
       "      <td>0.222375</td>\n",
       "      <td>0.000000</td>\n",
       "      <td>...</td>\n",
       "      <td>0.000000</td>\n",
       "      <td>0.071611</td>\n",
       "      <td>0.115663</td>\n",
       "      <td>0.000000</td>\n",
       "      <td>0.055470</td>\n",
       "      <td>0.000000</td>\n",
       "      <td>0.000000</td>\n",
       "      <td>0.000000</td>\n",
       "      <td>0.000000</td>\n",
       "      <td>0.069338</td>\n",
       "    </tr>\n",
       "    <tr>\n",
       "      <th>2</th>\n",
       "      <td>0.080064</td>\n",
       "      <td>0.160128</td>\n",
       "      <td>1.000000</td>\n",
       "      <td>0.102062</td>\n",
       "      <td>0.182574</td>\n",
       "      <td>0.174078</td>\n",
       "      <td>0.182574</td>\n",
       "      <td>0.000000</td>\n",
       "      <td>0.308607</td>\n",
       "      <td>0.102062</td>\n",
       "      <td>...</td>\n",
       "      <td>0.000000</td>\n",
       "      <td>0.074536</td>\n",
       "      <td>0.120386</td>\n",
       "      <td>0.091287</td>\n",
       "      <td>0.057735</td>\n",
       "      <td>0.061546</td>\n",
       "      <td>0.000000</td>\n",
       "      <td>0.117851</td>\n",
       "      <td>0.115470</td>\n",
       "      <td>0.072169</td>\n",
       "    </tr>\n",
       "    <tr>\n",
       "      <th>3</th>\n",
       "      <td>0.000000</td>\n",
       "      <td>0.000000</td>\n",
       "      <td>0.102062</td>\n",
       "      <td>1.000000</td>\n",
       "      <td>0.000000</td>\n",
       "      <td>0.000000</td>\n",
       "      <td>0.000000</td>\n",
       "      <td>0.000000</td>\n",
       "      <td>0.188982</td>\n",
       "      <td>0.000000</td>\n",
       "      <td>...</td>\n",
       "      <td>0.079057</td>\n",
       "      <td>0.091287</td>\n",
       "      <td>0.073721</td>\n",
       "      <td>0.111803</td>\n",
       "      <td>0.141421</td>\n",
       "      <td>0.150756</td>\n",
       "      <td>0.083333</td>\n",
       "      <td>0.144338</td>\n",
       "      <td>0.141421</td>\n",
       "      <td>0.088388</td>\n",
       "    </tr>\n",
       "    <tr>\n",
       "      <th>4</th>\n",
       "      <td>0.087706</td>\n",
       "      <td>0.175412</td>\n",
       "      <td>0.182574</td>\n",
       "      <td>0.000000</td>\n",
       "      <td>1.000000</td>\n",
       "      <td>0.190693</td>\n",
       "      <td>0.200000</td>\n",
       "      <td>0.000000</td>\n",
       "      <td>0.253546</td>\n",
       "      <td>0.111803</td>\n",
       "      <td>...</td>\n",
       "      <td>0.070711</td>\n",
       "      <td>0.000000</td>\n",
       "      <td>0.065938</td>\n",
       "      <td>0.000000</td>\n",
       "      <td>0.000000</td>\n",
       "      <td>0.000000</td>\n",
       "      <td>0.000000</td>\n",
       "      <td>0.000000</td>\n",
       "      <td>0.000000</td>\n",
       "      <td>0.000000</td>\n",
       "    </tr>\n",
       "  </tbody>\n",
       "</table>\n",
       "<p>5 rows × 188 columns</p>\n",
       "</div>"
      ],
      "text/plain": [
       "EpisodeTitle     Pilot  Diversity Day  Health Care  The Alliance  Basketball  \\\n",
       "0             1.000000       0.000000     0.080064      0.000000    0.087706   \n",
       "1             0.000000       1.000000     0.160128      0.000000    0.175412   \n",
       "2             0.080064       0.160128     1.000000      0.102062    0.182574   \n",
       "3             0.000000       0.000000     0.102062      1.000000    0.000000   \n",
       "4             0.087706       0.175412     0.182574      0.000000    1.000000   \n",
       "\n",
       "EpisodeTitle  Hot Girl  The Dundies  Sexual Harassment  Office Olympics  \\\n",
       "0             0.083624     0.087706           0.000000         0.074125   \n",
       "1             0.250873     0.175412           0.098058         0.222375   \n",
       "2             0.174078     0.182574           0.000000         0.308607   \n",
       "3             0.000000     0.000000           0.000000         0.188982   \n",
       "4             0.190693     0.200000           0.000000         0.253546   \n",
       "\n",
       "EpisodeTitle  The Fire  ...  Vandalism  Couples Discount  Moving On  The Farm  \\\n",
       "0             0.098058  ...   0.000000          0.000000   0.057831  0.000000   \n",
       "1             0.000000  ...   0.000000          0.071611   0.115663  0.000000   \n",
       "2             0.102062  ...   0.000000          0.074536   0.120386  0.091287   \n",
       "3             0.000000  ...   0.079057          0.091287   0.073721  0.111803   \n",
       "4             0.111803  ...   0.070711          0.000000   0.065938  0.000000   \n",
       "\n",
       "EpisodeTitle    Promos  Stairmageddon  Paper Airplane  Livin' the Dream  \\\n",
       "0             0.166410       0.000000        0.130744          0.113228   \n",
       "1             0.055470       0.000000        0.000000          0.000000   \n",
       "2             0.057735       0.061546        0.000000          0.117851   \n",
       "3             0.141421       0.150756        0.083333          0.144338   \n",
       "4             0.000000       0.000000        0.000000          0.000000   \n",
       "\n",
       "EpisodeTitle  A.A.R.M.    Finale  \n",
       "0             0.055470  0.208013  \n",
       "1             0.000000  0.069338  \n",
       "2             0.115470  0.072169  \n",
       "3             0.141421  0.088388  \n",
       "4             0.000000  0.000000  \n",
       "\n",
       "[5 rows x 188 columns]"
      ]
     },
     "execution_count": 214,
     "metadata": {},
     "output_type": "execute_result"
    }
   ],
   "source": [
    "cos_sim_df.head()"
   ]
  },
  {
   "cell_type": "code",
   "execution_count": 215,
   "metadata": {},
   "outputs": [],
   "source": [
    "def show_recommendation(episode_name):\n",
    "    for i in range(0,len(df)):\n",
    "        if df.values[i][0] == episode_name:\n",
    "            episode_index = df.values[i][2]\n",
    "            sorted_data = cos_sim_df.iloc[episode_index].sort_values(ascending=False)\n",
    "            sorted_df = pd.DataFrame(sorted_data)\n",
    "            print(sorted_df.index[1:4],sorted_df.iloc[1:4])\n",
    "    "
   ]
  },
  {
   "cell_type": "code",
   "execution_count": 216,
   "metadata": {},
   "outputs": [
    {
     "name": "stdout",
     "output_type": "stream",
     "text": [
      "Index(['Valentine's Day', 'Take Your Daughter to Work Day', 'Broke'], dtype='object', name='EpisodeTitle')                                      137\n",
      "EpisodeTitle                            \n",
      "Valentine's Day                 0.408248\n",
      "Take Your Daughter to Work Day  0.396928\n",
      "Broke                           0.387298\n"
     ]
    }
   ],
   "source": [
    "show_recommendation('Goodbye, Michael')"
   ]
  },
  {
   "cell_type": "code",
   "execution_count": null,
   "metadata": {},
   "outputs": [],
   "source": []
  }
 ],
 "metadata": {
  "kernelspec": {
   "display_name": "Python 3",
   "language": "python",
   "name": "python3"
  },
  "language_info": {
   "codemirror_mode": {
    "name": "ipython",
    "version": 3
   },
   "file_extension": ".py",
   "mimetype": "text/x-python",
   "name": "python",
   "nbconvert_exporter": "python",
   "pygments_lexer": "ipython3",
   "version": "3.7.6"
  }
 },
 "nbformat": 4,
 "nbformat_minor": 4
}
