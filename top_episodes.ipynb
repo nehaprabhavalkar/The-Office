{
 "cells": [
  {
   "cell_type": "code",
   "execution_count": 249,
   "metadata": {},
   "outputs": [],
   "source": [
    "import pandas as pd\n",
    "import numpy as np\n",
    "from matplotlib import pyplot as plt\n",
    "import seaborn as sns"
   ]
  },
  {
   "cell_type": "code",
   "execution_count": 250,
   "metadata": {},
   "outputs": [],
   "source": [
    "datapath = 'C:/Users/Neha/Desktop/Downloads/the_office.csv'\n",
    "dataset = pd.read_csv(datapath)"
   ]
  },
  {
   "cell_type": "code",
   "execution_count": 251,
   "metadata": {},
   "outputs": [],
   "source": [
    "df= dataset[['EpisodeTitle','Ratings','Votes']]"
   ]
  },
  {
   "cell_type": "code",
   "execution_count": 252,
   "metadata": {},
   "outputs": [
    {
     "data": {
      "text/plain": [
       "2838.228723404255"
      ]
     },
     "execution_count": 252,
     "metadata": {},
     "output_type": "execute_result"
    }
   ],
   "source": [
    "df['Votes'].mean() \n",
    "\n",
    "# average votes = 3000 approx"
   ]
  },
  {
   "cell_type": "code",
   "execution_count": 253,
   "metadata": {},
   "outputs": [
    {
     "name": "stdout",
     "output_type": "stream",
     "text": [
      "5\n"
     ]
    }
   ],
   "source": [
    "n = int(input('')) \n",
    "\n",
    "# n less than 64"
   ]
  },
  {
   "cell_type": "code",
   "execution_count": 254,
   "metadata": {},
   "outputs": [],
   "source": [
    "def get_top_episodes(df,n):\n",
    "    sorted_df = df.sort_values('Ratings',ascending=False,ignore_index=True)\n",
    "    top_episodes = []\n",
    "    for i in range(0,len(sorted_df)):\n",
    "        new_sorted_df = sorted_df[sorted_df['Votes']>3000]\n",
    "        top_episodes = new_sorted_df['EpisodeTitle']\n",
    "    print(\"top %d episodes\"%n)\n",
    "    print(top_episodes[0:n])\n",
    "    \n",
    "    \n",
    "    "
   ]
  },
  {
   "cell_type": "code",
   "execution_count": 255,
   "metadata": {},
   "outputs": [
    {
     "name": "stdout",
     "output_type": "stream",
     "text": [
      "top 5 episodes\n",
      "0              Finale\n",
      "1    Goodbye, Michael\n",
      "2       Stress Relief\n",
      "3            A.A.R.M.\n",
      "4        Dinner Party\n",
      "Name: EpisodeTitle, dtype: object\n"
     ]
    }
   ],
   "source": [
    "get_top_episodes(df,n)"
   ]
  },
  {
   "cell_type": "code",
   "execution_count": null,
   "metadata": {},
   "outputs": [],
   "source": []
  }
 ],
 "metadata": {
  "kernelspec": {
   "display_name": "Python 3",
   "language": "python",
   "name": "python3"
  },
  "language_info": {
   "codemirror_mode": {
    "name": "ipython",
    "version": 3
   },
   "file_extension": ".py",
   "mimetype": "text/x-python",
   "name": "python",
   "nbconvert_exporter": "python",
   "pygments_lexer": "ipython3",
   "version": "3.7.6"
  }
 },
 "nbformat": 4,
 "nbformat_minor": 4
}
